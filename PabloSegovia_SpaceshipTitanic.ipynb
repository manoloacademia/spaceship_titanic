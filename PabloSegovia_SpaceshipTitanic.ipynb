{
 "cells": [
  {
   "cell_type": "code",
   "execution_count": 1,
   "metadata": {},
   "outputs": [],
   "source": [
    "import pandas as pd"
   ]
  },
  {
   "cell_type": "code",
   "execution_count": 2,
   "metadata": {},
   "outputs": [],
   "source": [
    "train = pd.read_csv('train.csv')\n",
    "test = pd.read_csv('test.csv')\n",
    "test_ids = test['PassengerId']"
   ]
  },
  {
   "cell_type": "code",
   "execution_count": 3,
   "metadata": {},
   "outputs": [
    {
     "name": "stdout",
     "output_type": "stream",
     "text": [
      "(8693, 14)\n",
      "(4277, 13)\n"
     ]
    }
   ],
   "source": [
    "print(train.shape)\n",
    "print(test.shape)"
   ]
  },
  {
   "cell_type": "code",
   "execution_count": 4,
   "metadata": {},
   "outputs": [],
   "source": [
    "from sklearn import preprocessing\n",
    "le = preprocessing.LabelEncoder()"
   ]
  },
  {
   "cell_type": "code",
   "execution_count": 5,
   "metadata": {},
   "outputs": [
    {
     "data": {
      "text/plain": [
       "Index(['PassengerId', 'HomePlanet', 'CryoSleep', 'Cabin', 'Destination', 'Age',\n",
       "       'VIP', 'RoomService', 'FoodCourt', 'ShoppingMall', 'Spa', 'VRDeck',\n",
       "       'Name', 'Transported'],\n",
       "      dtype='object')"
      ]
     },
     "execution_count": 5,
     "metadata": {},
     "output_type": "execute_result"
    }
   ],
   "source": [
    "train.columns"
   ]
  },
  {
   "cell_type": "code",
   "execution_count": 6,
   "metadata": {},
   "outputs": [],
   "source": [
    "def clean(df: pd.DataFrame):\n",
    "    df = df.drop(['PassengerId', 'Cabin', 'Name'], axis=1)\n",
    "    cats = ['HomePlanet', 'Destination']\n",
    "    to_num = ['CryoSleep', 'VIP']\n",
    "    for cat in cats:\n",
    "        df[cat] = le.fit_transform(df[cat])\n",
    "        print(le.classes_)\n",
    "    for col in to_num:\n",
    "        df[col] = df[col].astype(bool).astype(int)\n",
    "    df = df.fillna(df.median())\n",
    "    return df"
   ]
  },
  {
   "cell_type": "code",
   "execution_count": 7,
   "metadata": {},
   "outputs": [
    {
     "name": "stdout",
     "output_type": "stream",
     "text": [
      "['Earth' 'Europa' 'Mars' nan]\n",
      "['55 Cancri e' 'PSO J318.5-22' 'TRAPPIST-1e' nan]\n",
      "['Earth' 'Europa' 'Mars' nan]\n",
      "['55 Cancri e' 'PSO J318.5-22' 'TRAPPIST-1e' nan]\n"
     ]
    }
   ],
   "source": [
    "train = clean(train)\n",
    "test = clean(test)"
   ]
  },
  {
   "cell_type": "markdown",
   "metadata": {},
   "source": [
    "# Logistic Regression"
   ]
  },
  {
   "cell_type": "code",
   "execution_count": 8,
   "metadata": {},
   "outputs": [],
   "source": [
    "from sklearn.linear_model import LogisticRegression\n",
    "from sklearn.model_selection import train_test_split"
   ]
  },
  {
   "cell_type": "code",
   "execution_count": 9,
   "metadata": {},
   "outputs": [],
   "source": [
    "X = train.drop('Transported', axis=1)\n",
    "y = train['Transported']\n",
    "X_train, X_val, y_train, y_val = train_test_split(X, y, test_size=0.2, random_state=42)"
   ]
  },
  {
   "cell_type": "code",
   "execution_count": 10,
   "metadata": {},
   "outputs": [
    {
     "data": {
      "text/plain": [
       "0.772857964347326"
      ]
     },
     "execution_count": 10,
     "metadata": {},
     "output_type": "execute_result"
    }
   ],
   "source": [
    "clf = LogisticRegression(random_state=42, max_iter=1000).fit(X_train, y_train)\n",
    "predictions = clf.predict(X_val)\n",
    "from sklearn.metrics import accuracy_score\n",
    "accuracy_score(y_val, predictions)"
   ]
  },
  {
   "cell_type": "code",
   "execution_count": 11,
   "metadata": {},
   "outputs": [
    {
     "data": {
      "text/html": [
       "<div>\n",
       "<style scoped>\n",
       "    .dataframe tbody tr th:only-of-type {\n",
       "        vertical-align: middle;\n",
       "    }\n",
       "\n",
       "    .dataframe tbody tr th {\n",
       "        vertical-align: top;\n",
       "    }\n",
       "\n",
       "    .dataframe thead th {\n",
       "        text-align: right;\n",
       "    }\n",
       "</style>\n",
       "<table border=\"1\" class=\"dataframe\">\n",
       "  <thead>\n",
       "    <tr style=\"text-align: right;\">\n",
       "      <th></th>\n",
       "      <th>PassengerId</th>\n",
       "      <th>Transported</th>\n",
       "    </tr>\n",
       "  </thead>\n",
       "  <tbody>\n",
       "    <tr>\n",
       "      <th>0</th>\n",
       "      <td>0013_01</td>\n",
       "      <td>True</td>\n",
       "    </tr>\n",
       "    <tr>\n",
       "      <th>1</th>\n",
       "      <td>0018_01</td>\n",
       "      <td>False</td>\n",
       "    </tr>\n",
       "    <tr>\n",
       "      <th>2</th>\n",
       "      <td>0019_01</td>\n",
       "      <td>True</td>\n",
       "    </tr>\n",
       "    <tr>\n",
       "      <th>3</th>\n",
       "      <td>0021_01</td>\n",
       "      <td>True</td>\n",
       "    </tr>\n",
       "    <tr>\n",
       "      <th>4</th>\n",
       "      <td>0023_01</td>\n",
       "      <td>False</td>\n",
       "    </tr>\n",
       "  </tbody>\n",
       "</table>\n",
       "</div>"
      ],
      "text/plain": [
       "  PassengerId  Transported\n",
       "0     0013_01         True\n",
       "1     0018_01        False\n",
       "2     0019_01         True\n",
       "3     0021_01         True\n",
       "4     0023_01        False"
      ]
     },
     "execution_count": 11,
     "metadata": {},
     "output_type": "execute_result"
    }
   ],
   "source": [
    "submission = clf.predict(test)\n",
    "df = pd.DataFrame({'PassengerId': test_ids.values,\n",
    "                    'Transported': submission,})\n",
    "df['Transported'] = df['Transported'].astype(bool)\n",
    "df.head(5)"
   ]
  },
  {
   "cell_type": "code",
   "execution_count": 12,
   "metadata": {},
   "outputs": [],
   "source": [
    "df.to_csv('PabloSegovia_SpaceshipTitanic.csv', index=False)"
   ]
  },
  {
   "cell_type": "markdown",
   "metadata": {},
   "source": [
    "For LogisticRegression the Kaggle score was: 0.78700"
   ]
  },
  {
   "cell_type": "markdown",
   "metadata": {},
   "source": [
    "# Support Vector Machines"
   ]
  },
  {
   "cell_type": "code",
   "execution_count": 13,
   "metadata": {},
   "outputs": [],
   "source": [
    "from sklearn import svm"
   ]
  },
  {
   "cell_type": "code",
   "execution_count": 14,
   "metadata": {},
   "outputs": [
    {
     "data": {
      "text/plain": [
       "SVC()"
      ]
     },
     "execution_count": 14,
     "metadata": {},
     "output_type": "execute_result"
    }
   ],
   "source": [
    "# Usage of SVClassifier\n",
    "svc = svm.SVC()\n",
    "svc.fit(X_train, y_train)"
   ]
  },
  {
   "cell_type": "code",
   "execution_count": 15,
   "metadata": {},
   "outputs": [],
   "source": [
    "predictions = svc.predict(X_val)"
   ]
  },
  {
   "cell_type": "code",
   "execution_count": 16,
   "metadata": {},
   "outputs": [
    {
     "data": {
      "text/plain": [
       "0.7734330074755607"
      ]
     },
     "execution_count": 16,
     "metadata": {},
     "output_type": "execute_result"
    }
   ],
   "source": [
    "accuracy_score(y_val, predictions)"
   ]
  },
  {
   "cell_type": "code",
   "execution_count": 17,
   "metadata": {},
   "outputs": [
    {
     "data": {
      "text/html": [
       "<div>\n",
       "<style scoped>\n",
       "    .dataframe tbody tr th:only-of-type {\n",
       "        vertical-align: middle;\n",
       "    }\n",
       "\n",
       "    .dataframe tbody tr th {\n",
       "        vertical-align: top;\n",
       "    }\n",
       "\n",
       "    .dataframe thead th {\n",
       "        text-align: right;\n",
       "    }\n",
       "</style>\n",
       "<table border=\"1\" class=\"dataframe\">\n",
       "  <thead>\n",
       "    <tr style=\"text-align: right;\">\n",
       "      <th></th>\n",
       "      <th>PassengerId</th>\n",
       "      <th>Transported</th>\n",
       "    </tr>\n",
       "  </thead>\n",
       "  <tbody>\n",
       "    <tr>\n",
       "      <th>0</th>\n",
       "      <td>0013_01</td>\n",
       "      <td>True</td>\n",
       "    </tr>\n",
       "    <tr>\n",
       "      <th>1</th>\n",
       "      <td>0018_01</td>\n",
       "      <td>False</td>\n",
       "    </tr>\n",
       "    <tr>\n",
       "      <th>2</th>\n",
       "      <td>0019_01</td>\n",
       "      <td>True</td>\n",
       "    </tr>\n",
       "    <tr>\n",
       "      <th>3</th>\n",
       "      <td>0021_01</td>\n",
       "      <td>True</td>\n",
       "    </tr>\n",
       "    <tr>\n",
       "      <th>4</th>\n",
       "      <td>0023_01</td>\n",
       "      <td>True</td>\n",
       "    </tr>\n",
       "  </tbody>\n",
       "</table>\n",
       "</div>"
      ],
      "text/plain": [
       "  PassengerId  Transported\n",
       "0     0013_01         True\n",
       "1     0018_01        False\n",
       "2     0019_01         True\n",
       "3     0021_01         True\n",
       "4     0023_01         True"
      ]
     },
     "execution_count": 17,
     "metadata": {},
     "output_type": "execute_result"
    }
   ],
   "source": [
    "submission = svc.predict(test)\n",
    "df = pd.DataFrame({'PassengerId': test_ids.values,\n",
    "                    'Transported': submission,})\n",
    "df['Transported'] = df['Transported'].astype(bool)\n",
    "df.head(5)"
   ]
  },
  {
   "cell_type": "code",
   "execution_count": 18,
   "metadata": {},
   "outputs": [],
   "source": [
    "df.to_csv('PabloSegovia_SpaceshipTitanic_SVC.csv', index=False)"
   ]
  },
  {
   "cell_type": "markdown",
   "metadata": {},
   "source": [
    "For SVC the Kaggle score was: 0.79003"
   ]
  },
  {
   "cell_type": "markdown",
   "metadata": {},
   "source": [
    "### Nu"
   ]
  },
  {
   "cell_type": "code",
   "execution_count": 19,
   "metadata": {},
   "outputs": [],
   "source": [
    "def df_to_submission(clsf):\n",
    "    clsf.fit(X_train, y_train)\n",
    "    predictions = clsf.predict(X_val)\n",
    "    print('Accuracy Score: ', accuracy_score(y_val, predictions))\n",
    "    submission = clsf.predict(test)\n",
    "    df = pd.DataFrame({'PassengerId': test_ids.values,\n",
    "                    'Transported': submission,})\n",
    "    df['Transported'] = df['Transported'].astype(bool)\n",
    "    return df"
   ]
  },
  {
   "cell_type": "markdown",
   "metadata": {},
   "source": [
    "# LinearSVC"
   ]
  },
  {
   "cell_type": "code",
   "execution_count": 20,
   "metadata": {},
   "outputs": [],
   "source": [
    "from sklearn.svm import LinearSVC\n",
    "lsvc = LinearSVC(random_state=42, tol=1e-05)"
   ]
  },
  {
   "cell_type": "code",
   "execution_count": 21,
   "metadata": {},
   "outputs": [
    {
     "name": "stdout",
     "output_type": "stream",
     "text": [
      "Accuracy Score:  0.730879815986199\n"
     ]
    },
    {
     "name": "stderr",
     "output_type": "stream",
     "text": [
      "c:\\Users\\segovp01\\Miniconda3\\envs\\ML\\lib\\site-packages\\sklearn\\svm\\_base.py:1206: ConvergenceWarning: Liblinear failed to converge, increase the number of iterations.\n",
      "  warnings.warn(\n"
     ]
    }
   ],
   "source": [
    "df = df_to_submission(lsvc)"
   ]
  },
  {
   "cell_type": "markdown",
   "metadata": {},
   "source": [
    "Worse than the last two attempts. No submission for it."
   ]
  },
  {
   "cell_type": "markdown",
   "metadata": {},
   "source": [
    "# K-Nearest neighbors"
   ]
  },
  {
   "cell_type": "code",
   "execution_count": 22,
   "metadata": {},
   "outputs": [],
   "source": [
    "from sklearn.neighbors import KNeighborsClassifier\n",
    "knn = KNeighborsClassifier(n_neighbors=5)"
   ]
  },
  {
   "cell_type": "code",
   "execution_count": 23,
   "metadata": {},
   "outputs": [
    {
     "name": "stdout",
     "output_type": "stream",
     "text": [
      "Accuracy Score:  0.7751581368602645\n"
     ]
    }
   ],
   "source": [
    "df = df_to_submission(knn)"
   ]
  },
  {
   "cell_type": "code",
   "execution_count": 24,
   "metadata": {},
   "outputs": [],
   "source": [
    "df.to_csv('PabloSegovia_SpaceshipTitanic_KNN.csv', index=False)"
   ]
  },
  {
   "cell_type": "markdown",
   "metadata": {},
   "source": [
    "Kaggle message: Your submission scored 0.78092, which is not an improvement of your previous score. Keep trying!"
   ]
  },
  {
   "cell_type": "markdown",
   "metadata": {},
   "source": [
    "May be the n_neighbors has a change in the accuracy score:"
   ]
  },
  {
   "cell_type": "code",
   "execution_count": 25,
   "metadata": {},
   "outputs": [
    {
     "name": "stdout",
     "output_type": "stream",
     "text": [
      "Accuracy Score for 6_neighbors:  0.7722829212190915\n",
      "Accuracy Score for 7_neighbors:  0.7757331799884991\n",
      "Accuracy Score for 8_neighbors:  0.7694077055779184\n",
      "Accuracy Score for 9_neighbors:  0.78205865439908\n",
      "Accuracy Score for 10_neighbors:  0.7791834387579069\n"
     ]
    }
   ],
   "source": [
    "for i in range(6, 11):\n",
    "    knn = KNeighborsClassifier(n_neighbors=i)\n",
    "    knn.fit(X_train, y_train)\n",
    "    predictions = knn.predict(X_val)\n",
    "    print(f'Accuracy Score for {i}_neighbors: ', accuracy_score(y_val, predictions))"
   ]
  },
  {
   "cell_type": "code",
   "execution_count": 26,
   "metadata": {},
   "outputs": [
    {
     "name": "stdout",
     "output_type": "stream",
     "text": [
      "Accuracy Score:  0.78205865439908\n"
     ]
    }
   ],
   "source": [
    "# Best accuracy score was achieved using n_neighbors = 9\n",
    "knn = KNeighborsClassifier(n_neighbors=9)\n",
    "df = df_to_submission(knn)"
   ]
  },
  {
   "cell_type": "code",
   "execution_count": 27,
   "metadata": {},
   "outputs": [],
   "source": [
    "df.to_csv('PabloSegovia_SpaceshipTitanic_KNN.csv', index=False)"
   ]
  },
  {
   "cell_type": "markdown",
   "metadata": {},
   "source": [
    "kaggle score: Your submission scored 0.78489, which is not an improvement of your previous score. Keep trying!"
   ]
  },
  {
   "cell_type": "markdown",
   "metadata": {},
   "source": [
    "# Decision Tree Classifier"
   ]
  },
  {
   "cell_type": "code",
   "execution_count": 28,
   "metadata": {},
   "outputs": [],
   "source": [
    "from sklearn.tree import DecisionTreeClassifier\n",
    "dtc = DecisionTreeClassifier()"
   ]
  },
  {
   "cell_type": "code",
   "execution_count": 29,
   "metadata": {},
   "outputs": [
    {
     "name": "stdout",
     "output_type": "stream",
     "text": [
      "Accuracy Score:  0.7429557216791259\n"
     ]
    }
   ],
   "source": [
    "df = df_to_submission(dtc)"
   ]
  },
  {
   "cell_type": "markdown",
   "metadata": {},
   "source": [
    "Worse accuracy_score"
   ]
  },
  {
   "cell_type": "markdown",
   "metadata": {},
   "source": [
    "## Exploring SVC"
   ]
  },
  {
   "cell_type": "markdown",
   "metadata": {},
   "source": [
    "As SVC accuracy score presented the best Kaggle score until now, it could be a good idea to explore its hyperparameters.\n",
    "## Better in the future"
   ]
  },
  {
   "cell_type": "markdown",
   "metadata": {},
   "source": [
    "# Applying LazyPredict"
   ]
  },
  {
   "cell_type": "code",
   "execution_count": 33,
   "metadata": {},
   "outputs": [],
   "source": [
    "from tqdm import tqdm"
   ]
  },
  {
   "cell_type": "code",
   "execution_count": 40,
   "metadata": {},
   "outputs": [],
   "source": [
    "from sklearn.utils._testing import ignore_warnings\n"
   ]
  },
  {
   "cell_type": "code",
   "execution_count": 37,
   "metadata": {},
   "outputs": [],
   "source": [
    "try:\n",
    "    from sklearn.utils._testing import ignore_warnings\n",
    "except ImportError:\n",
    "    from sklearn.utils.testing import ignore_warnings"
   ]
  },
  {
   "cell_type": "code",
   "execution_count": 43,
   "metadata": {},
   "outputs": [
    {
     "ename": "ImportError",
     "evalue": "cannot import name 'all_estimators' from 'sklearn.utils._testing' (c:\\Users\\segovp01\\Miniconda3\\envs\\ML\\lib\\site-packages\\sklearn\\utils\\_testing.py)",
     "output_type": "error",
     "traceback": [
      "\u001b[1;31m---------------------------------------------------------------------------\u001b[0m",
      "\u001b[1;31mImportError\u001b[0m                               Traceback (most recent call last)",
      "\u001b[1;32mc:\\Users\\segovp01\\OneDrive - Johnson Matthey\\7 - Archivos sueltos\\Python\\Kaggle\\Spaceship Titanic\\spaceship_titanic\\PabloSegovia_SpaceshipTitanic.ipynb Celda 49\u001b[0m in \u001b[0;36m<cell line: 1>\u001b[1;34m()\u001b[0m\n\u001b[1;32m----> <a href='vscode-notebook-cell:/c%3A/Users/segovp01/OneDrive%20-%20Johnson%20Matthey/7%20-%20Archivos%20sueltos/Python/Kaggle/Spaceship%20Titanic/spaceship_titanic/PabloSegovia_SpaceshipTitanic.ipynb#ch0000049?line=0'>1</a>\u001b[0m \u001b[39mimport\u001b[39;00m \u001b[39mlazypredict_copy\u001b[39;00m\n",
      "File \u001b[1;32mc:\\Users\\segovp01\\OneDrive - Johnson Matthey\\7 - Archivos sueltos\\Python\\Kaggle\\Spaceship Titanic\\spaceship_titanic\\lazypredict_copy.py:16\u001b[0m, in \u001b[0;36m<module>\u001b[1;34m\u001b[0m\n\u001b[0;32m     14\u001b[0m \u001b[39mfrom\u001b[39;00m \u001b[39msklearn\u001b[39;00m\u001b[39m.\u001b[39;00m\u001b[39mpreprocessing\u001b[39;00m \u001b[39mimport\u001b[39;00m StandardScaler, OneHotEncoder\n\u001b[0;32m     15\u001b[0m \u001b[39mfrom\u001b[39;00m \u001b[39msklearn\u001b[39;00m\u001b[39m.\u001b[39;00m\u001b[39mcompose\u001b[39;00m \u001b[39mimport\u001b[39;00m ColumnTransformer\n\u001b[1;32m---> 16\u001b[0m \u001b[39mfrom\u001b[39;00m \u001b[39msklearn\u001b[39;00m\u001b[39m.\u001b[39;00m\u001b[39mutils\u001b[39;00m\u001b[39m.\u001b[39;00m\u001b[39m_testing\u001b[39;00m \u001b[39mimport\u001b[39;00m all_estimators\n\u001b[0;32m     17\u001b[0m \u001b[39mfrom\u001b[39;00m \u001b[39msklearn\u001b[39;00m\u001b[39m.\u001b[39;00m\u001b[39mbase\u001b[39;00m \u001b[39mimport\u001b[39;00m RegressorMixin\n\u001b[0;32m     18\u001b[0m \u001b[39mfrom\u001b[39;00m \u001b[39msklearn\u001b[39;00m\u001b[39m.\u001b[39;00m\u001b[39mbase\u001b[39;00m \u001b[39mimport\u001b[39;00m ClassifierMixin\n",
      "\u001b[1;31mImportError\u001b[0m: cannot import name 'all_estimators' from 'sklearn.utils._testing' (c:\\Users\\segovp01\\Miniconda3\\envs\\ML\\lib\\site-packages\\sklearn\\utils\\_testing.py)"
     ]
    }
   ],
   "source": [
    "import lazypredict_copy"
   ]
  },
  {
   "cell_type": "code",
   "execution_count": 34,
   "metadata": {},
   "outputs": [
    {
     "ename": "ModuleNotFoundError",
     "evalue": "No module named 'sklearn.utils.testing'",
     "output_type": "error",
     "traceback": [
      "\u001b[1;31m---------------------------------------------------------------------------\u001b[0m",
      "\u001b[1;31mModuleNotFoundError\u001b[0m                       Traceback (most recent call last)",
      "\u001b[1;32mc:\\Users\\segovp01\\OneDrive - Johnson Matthey\\7 - Archivos sueltos\\Python\\Kaggle\\Spaceship Titanic\\spaceship_titanic\\PabloSegovia_SpaceshipTitanic.ipynb Celda 47\u001b[0m in \u001b[0;36m<cell line: 1>\u001b[1;34m()\u001b[0m\n\u001b[1;32m----> <a href='vscode-notebook-cell:/c%3A/Users/segovp01/OneDrive%20-%20Johnson%20Matthey/7%20-%20Archivos%20sueltos/Python/Kaggle/Spaceship%20Titanic/spaceship_titanic/PabloSegovia_SpaceshipTitanic.ipynb#ch0000046?line=0'>1</a>\u001b[0m \u001b[39mfrom\u001b[39;00m \u001b[39mlazypredict\u001b[39;00m\u001b[39m.\u001b[39;00m\u001b[39mSupervised\u001b[39;00m \u001b[39mimport\u001b[39;00m LazyClassifier\n\u001b[0;32m      <a href='vscode-notebook-cell:/c%3A/Users/segovp01/OneDrive%20-%20Johnson%20Matthey/7%20-%20Archivos%20sueltos/Python/Kaggle/Spaceship%20Titanic/spaceship_titanic/PabloSegovia_SpaceshipTitanic.ipynb#ch0000046?line=1'>2</a>\u001b[0m clf \u001b[39m=\u001b[39m LazyClassifier(verbose\u001b[39m=\u001b[39m\u001b[39m0\u001b[39m,\n\u001b[0;32m      <a href='vscode-notebook-cell:/c%3A/Users/segovp01/OneDrive%20-%20Johnson%20Matthey/7%20-%20Archivos%20sueltos/Python/Kaggle/Spaceship%20Titanic/spaceship_titanic/PabloSegovia_SpaceshipTitanic.ipynb#ch0000046?line=2'>3</a>\u001b[0m                     ignore_warnings\u001b[39m=\u001b[39m\u001b[39mTrue\u001b[39;00m,\n\u001b[0;32m      <a href='vscode-notebook-cell:/c%3A/Users/segovp01/OneDrive%20-%20Johnson%20Matthey/7%20-%20Archivos%20sueltos/Python/Kaggle/Spaceship%20Titanic/spaceship_titanic/PabloSegovia_SpaceshipTitanic.ipynb#ch0000046?line=3'>4</a>\u001b[0m                     custom_metric\u001b[39m=\u001b[39m\u001b[39mNone\u001b[39;00m,\n\u001b[0;32m      <a href='vscode-notebook-cell:/c%3A/Users/segovp01/OneDrive%20-%20Johnson%20Matthey/7%20-%20Archivos%20sueltos/Python/Kaggle/Spaceship%20Titanic/spaceship_titanic/PabloSegovia_SpaceshipTitanic.ipynb#ch0000046?line=4'>5</a>\u001b[0m                     predictions\u001b[39m=\u001b[39m\u001b[39mFalse\u001b[39;00m,\n\u001b[0;32m      <a href='vscode-notebook-cell:/c%3A/Users/segovp01/OneDrive%20-%20Johnson%20Matthey/7%20-%20Archivos%20sueltos/Python/Kaggle/Spaceship%20Titanic/spaceship_titanic/PabloSegovia_SpaceshipTitanic.ipynb#ch0000046?line=5'>6</a>\u001b[0m                     random_state\u001b[39m=\u001b[39m\u001b[39m42\u001b[39m,\n\u001b[0;32m      <a href='vscode-notebook-cell:/c%3A/Users/segovp01/OneDrive%20-%20Johnson%20Matthey/7%20-%20Archivos%20sueltos/Python/Kaggle/Spaceship%20Titanic/spaceship_titanic/PabloSegovia_SpaceshipTitanic.ipynb#ch0000046?line=6'>7</a>\u001b[0m                     classifiers\u001b[39m=\u001b[39m\u001b[39m'\u001b[39m\u001b[39mall\u001b[39m\u001b[39m'\u001b[39m)\n\u001b[0;32m      <a href='vscode-notebook-cell:/c%3A/Users/segovp01/OneDrive%20-%20Johnson%20Matthey/7%20-%20Archivos%20sueltos/Python/Kaggle/Spaceship%20Titanic/spaceship_titanic/PabloSegovia_SpaceshipTitanic.ipynb#ch0000046?line=8'>9</a>\u001b[0m models, predictions \u001b[39m=\u001b[39m clf\u001b[39m.\u001b[39mfit(X_train , X_test , y_train , y_test)\n",
      "File \u001b[1;32mc:\\Users\\segovp01\\Miniconda3\\envs\\ML\\lib\\site-packages\\lazypredict\\Supervised.py:16\u001b[0m, in \u001b[0;36m<module>\u001b[1;34m\u001b[0m\n\u001b[0;32m     14\u001b[0m \u001b[39mfrom\u001b[39;00m \u001b[39msklearn\u001b[39;00m\u001b[39m.\u001b[39;00m\u001b[39mpreprocessing\u001b[39;00m \u001b[39mimport\u001b[39;00m StandardScaler, OneHotEncoder\n\u001b[0;32m     15\u001b[0m \u001b[39mfrom\u001b[39;00m \u001b[39msklearn\u001b[39;00m\u001b[39m.\u001b[39;00m\u001b[39mcompose\u001b[39;00m \u001b[39mimport\u001b[39;00m ColumnTransformer\n\u001b[1;32m---> 16\u001b[0m \u001b[39mfrom\u001b[39;00m \u001b[39msklearn\u001b[39;00m\u001b[39m.\u001b[39;00m\u001b[39mutils\u001b[39;00m\u001b[39m.\u001b[39;00m\u001b[39mtesting\u001b[39;00m \u001b[39mimport\u001b[39;00m all_estimators\n\u001b[0;32m     17\u001b[0m \u001b[39mfrom\u001b[39;00m \u001b[39msklearn\u001b[39;00m\u001b[39m.\u001b[39;00m\u001b[39mbase\u001b[39;00m \u001b[39mimport\u001b[39;00m RegressorMixin\n\u001b[0;32m     18\u001b[0m \u001b[39mfrom\u001b[39;00m \u001b[39msklearn\u001b[39;00m\u001b[39m.\u001b[39;00m\u001b[39mbase\u001b[39;00m \u001b[39mimport\u001b[39;00m ClassifierMixin\n",
      "\u001b[1;31mModuleNotFoundError\u001b[0m: No module named 'sklearn.utils.testing'"
     ]
    }
   ],
   "source": [
    "clf = LazyClassifier(verbose=0,\n",
    "                    ignore_warnings=True,\n",
    "                    custom_metric=None,\n",
    "                    predictions=False,\n",
    "                    random_state=42,\n",
    "                    classifiers='all')\n",
    "\n",
    "models, predictions = clf.fit(X_train , X_val , y_train , y_val)"
   ]
  },
  {
   "cell_type": "code",
   "execution_count": null,
   "metadata": {},
   "outputs": [],
   "source": []
  }
 ],
 "metadata": {
  "kernelspec": {
   "display_name": "Python 3.9.12 ('ML')",
   "language": "python",
   "name": "python3"
  },
  "language_info": {
   "codemirror_mode": {
    "name": "ipython",
    "version": 3
   },
   "file_extension": ".py",
   "mimetype": "text/x-python",
   "name": "python",
   "nbconvert_exporter": "python",
   "pygments_lexer": "ipython3",
   "version": "3.9.12"
  },
  "orig_nbformat": 4,
  "vscode": {
   "interpreter": {
    "hash": "0ea1991cbe18a48fee9cfe9b9a93e33a3df31eb1aa0853d329d249e0c33547dd"
   }
  }
 },
 "nbformat": 4,
 "nbformat_minor": 2
}
